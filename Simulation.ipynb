{
 "cells": [
  {
   "cell_type": "markdown",
   "metadata": {},
   "source": [
    "## Make a program to choose randomly p fraction of the population to infect initially\n",
    "* Randomly with choosen probability picks 0 and 1 \n",
    "* We find list of all unique users and then we need to infect a percentage of population\n",
    "* Again a problem here is that we need to start infecting users only after a particular time\n",
    "* we need to make this set to be positive or negative\n",
    "\n",
    "**I propose that there could be atleast two mechanism to start infection**\n",
    "1. Randomly infect people by choosing them after a particular time\n",
    "2. Randomly infect people by choosing a particular place at particular time (this is how COVID started)\n",
    "3. If choosing step 2 then we can randmly infect people who were at that place at a particular time\n",
    "4. Using alpha as infection rate"
   ]
  },
  {
   "cell_type": "code",
   "execution_count": null,
   "metadata": {},
   "outputs": [],
   "source": [
    "import pandas as pd\n",
    "df = pd.read_csv(\"dataset_tsmc2014/dataset_TSMC2014_NYC.txt\",sep='\\t', engine=\"python\", header=None)"
   ]
  },
  {
   "cell_type": "code",
   "execution_count": 1,
   "metadata": {},
   "outputs": [
    {
     "ename": "NameError",
     "evalue": "name 'pd' is not defined",
     "output_type": "error",
     "traceback": [
      "\u001b[0;31m---------------------------------------------------------------------------\u001b[0m",
      "\u001b[0;31mNameError\u001b[0m                                 Traceback (most recent call last)",
      "\u001b[0;32m<ipython-input-1-06645709022a>\u001b[0m in \u001b[0;36m<module>\u001b[0;34m\u001b[0m\n\u001b[1;32m      4\u001b[0m \u001b[0;34m\u001b[0m\u001b[0m\n\u001b[1;32m      5\u001b[0m \u001b[0;31m#choosing unique users from list of all user IDs\u001b[0m\u001b[0;34m\u001b[0m\u001b[0;34m\u001b[0m\u001b[0;34m\u001b[0m\u001b[0m\n\u001b[0;32m----> 6\u001b[0;31m \u001b[0munique_users\u001b[0m \u001b[0;34m=\u001b[0m  \u001b[0mpd\u001b[0m\u001b[0;34m.\u001b[0m\u001b[0munique\u001b[0m\u001b[0;34m(\u001b[0m\u001b[0mdf\u001b[0m\u001b[0;34m[\u001b[0m\u001b[0;34m\"User ID (anonymized)\"\u001b[0m\u001b[0;34m]\u001b[0m\u001b[0;34m)\u001b[0m\u001b[0;31m#.\u001b[0m\u001b[0;34m\u001b[0m\u001b[0;34m\u001b[0m\u001b[0m\n\u001b[0m\u001b[1;32m      7\u001b[0m \u001b[0mprint\u001b[0m\u001b[0;34m(\u001b[0m\u001b[0munique_users\u001b[0m\u001b[0;34m)\u001b[0m\u001b[0;34m\u001b[0m\u001b[0;34m\u001b[0m\u001b[0m\n\u001b[1;32m      8\u001b[0m \u001b[0;34m\u001b[0m\u001b[0m\n",
      "\u001b[0;31mNameError\u001b[0m: name 'pd' is not defined"
     ]
    }
   ],
   "source": [
    "import numpy as np\n",
    "\n",
    "alpha = 0.1\n",
    "\n",
    "#choosing unique users from list of all user IDs\n",
    "unique_users =  pd.unique(df[\"User ID (anonymized)\"])#.\n",
    "print(unique_users)\n",
    "\n",
    "# this is when we are infecting people at a particular time\n",
    "gen_positive = np.random.choice((1,0),size = len(unique_users), p=[alpha, 1-alpha])\n",
    "\n",
    "# infect_time = choose time # This variable will be used to infect in both the cases\n",
    "\n",
    "# infect_place = choose place\n",
    "\n",
    "#If choosing place then we need to write query to \n",
    "\n",
    "# Write the code such that onlu\n"
   ]
  },
  {
   "cell_type": "code",
   "execution_count": null,
   "metadata": {},
   "outputs": [],
   "source": []
  }
 ],
 "metadata": {
  "kernelspec": {
   "display_name": "Python 3",
   "language": "python",
   "name": "python3"
  },
  "language_info": {
   "codemirror_mode": {
    "name": "ipython",
    "version": 3
   },
   "file_extension": ".py",
   "mimetype": "text/x-python",
   "name": "python",
   "nbconvert_exporter": "python",
   "pygments_lexer": "ipython3",
   "version": "3.7.3"
  }
 },
 "nbformat": 4,
 "nbformat_minor": 2
}
