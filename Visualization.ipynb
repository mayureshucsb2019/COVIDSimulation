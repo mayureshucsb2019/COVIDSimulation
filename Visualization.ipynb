{
 "cells": [
  {
   "cell_type": "markdown",
   "metadata": {},
   "source": [
    "Import the ArcGIS API for Python. \n",
    "This adds a GeoAccessor and spatially enables your DataFrame objects. As you will see in this notebook, you can then easily plot your data both as charts and as maps.\n"
   ]
  },
  {
   "cell_type": "code",
   "execution_count": 1,
   "metadata": {},
   "outputs": [
    {
     "name": "stderr",
     "output_type": "stream",
     "text": [
      "/opt/anaconda3/lib/python3.7/site-packages/arcgis/features/_data/geodataset/utils.py:16: FutureWarning: The pandas.datetime class is deprecated and will be removed from pandas in a future version. Import from datetime module instead.\n",
      "  pd.datetime,\n"
     ]
    }
   ],
   "source": [
    "import pandas as pd\n",
    "import matplotlib.pyplot as plt\n",
    "%matplotlib inline\n",
    "\n",
    "from arcgis.gis import GIS\n",
    "from arcgis.features import GeoAccessor, GeoSeriesAccessor"
   ]
  },
  {
   "cell_type": "code",
   "execution_count": 2,
   "metadata": {},
   "outputs": [],
   "source": [
    "gis = GIS()\n",
    "\n",
    "df = pd.read_csv(\"NYCInfectedTMSC2014.tsv\",sep='\\t', engine=\"python\")\n",
    "df.drop([\"Unnamed: 0\"],axis=1, inplace=True)"
   ]
  },
  {
   "cell_type": "code",
   "execution_count": 3,
   "metadata": {},
   "outputs": [
    {
     "data": {
      "text/html": [
       "<div>\n",
       "<style scoped>\n",
       "    .dataframe tbody tr th:only-of-type {\n",
       "        vertical-align: middle;\n",
       "    }\n",
       "\n",
       "    .dataframe tbody tr th {\n",
       "        vertical-align: top;\n",
       "    }\n",
       "\n",
       "    .dataframe thead th {\n",
       "        text-align: right;\n",
       "    }\n",
       "</style>\n",
       "<table border=\"1\" class=\"dataframe\">\n",
       "  <thead>\n",
       "    <tr style=\"text-align: right;\">\n",
       "      <th></th>\n",
       "      <th>User ID (anonymized)</th>\n",
       "      <th>Venue ID (Foursquare)</th>\n",
       "      <th>Venue category ID (Foursquare)</th>\n",
       "      <th>Venue category name (Fousquare)</th>\n",
       "      <th>Latitude</th>\n",
       "      <th>Longitude</th>\n",
       "      <th>Timezone offset(minutes)</th>\n",
       "      <th>UTC time</th>\n",
       "      <th>Status</th>\n",
       "      <th>Iteration</th>\n",
       "      <th>InfectorId</th>\n",
       "      <th>InfectionTime</th>\n",
       "      <th>Time</th>\n",
       "    </tr>\n",
       "  </thead>\n",
       "  <tbody>\n",
       "    <tr>\n",
       "      <th>0</th>\n",
       "      <td>470</td>\n",
       "      <td>49bbd6c0f964a520f4531fe3</td>\n",
       "      <td>4bf58dd8d48988d127951735</td>\n",
       "      <td>Arts &amp; Crafts Store</td>\n",
       "      <td>40.719810</td>\n",
       "      <td>-74.002581</td>\n",
       "      <td>-240</td>\n",
       "      <td>Tue Apr 03 18:00:09 +0000 2012</td>\n",
       "      <td>0</td>\n",
       "      <td>0</td>\n",
       "      <td>0</td>\n",
       "      <td>0</td>\n",
       "      <td>1333476009</td>\n",
       "    </tr>\n",
       "    <tr>\n",
       "      <th>1</th>\n",
       "      <td>979</td>\n",
       "      <td>4a43c0aef964a520c6a61fe3</td>\n",
       "      <td>4bf58dd8d48988d1df941735</td>\n",
       "      <td>Bridge</td>\n",
       "      <td>40.606800</td>\n",
       "      <td>-74.044170</td>\n",
       "      <td>-240</td>\n",
       "      <td>Tue Apr 03 18:00:25 +0000 2012</td>\n",
       "      <td>0</td>\n",
       "      <td>0</td>\n",
       "      <td>0</td>\n",
       "      <td>0</td>\n",
       "      <td>1333476025</td>\n",
       "    </tr>\n",
       "    <tr>\n",
       "      <th>2</th>\n",
       "      <td>69</td>\n",
       "      <td>4c5cc7b485a1e21e00d35711</td>\n",
       "      <td>4bf58dd8d48988d103941735</td>\n",
       "      <td>Home (private)</td>\n",
       "      <td>40.716162</td>\n",
       "      <td>-73.883070</td>\n",
       "      <td>-240</td>\n",
       "      <td>Tue Apr 03 18:02:24 +0000 2012</td>\n",
       "      <td>0</td>\n",
       "      <td>0</td>\n",
       "      <td>0</td>\n",
       "      <td>0</td>\n",
       "      <td>1333476144</td>\n",
       "    </tr>\n",
       "    <tr>\n",
       "      <th>3</th>\n",
       "      <td>395</td>\n",
       "      <td>4bc7086715a7ef3bef9878da</td>\n",
       "      <td>4bf58dd8d48988d104941735</td>\n",
       "      <td>Medical Center</td>\n",
       "      <td>40.745164</td>\n",
       "      <td>-73.982519</td>\n",
       "      <td>-240</td>\n",
       "      <td>Tue Apr 03 18:02:41 +0000 2012</td>\n",
       "      <td>0</td>\n",
       "      <td>0</td>\n",
       "      <td>0</td>\n",
       "      <td>0</td>\n",
       "      <td>1333476161</td>\n",
       "    </tr>\n",
       "    <tr>\n",
       "      <th>4</th>\n",
       "      <td>87</td>\n",
       "      <td>4cf2c5321d18a143951b5cec</td>\n",
       "      <td>4bf58dd8d48988d1cb941735</td>\n",
       "      <td>Food Truck</td>\n",
       "      <td>40.740104</td>\n",
       "      <td>-73.989658</td>\n",
       "      <td>-240</td>\n",
       "      <td>Tue Apr 03 18:03:00 +0000 2012</td>\n",
       "      <td>0</td>\n",
       "      <td>0</td>\n",
       "      <td>0</td>\n",
       "      <td>0</td>\n",
       "      <td>1333476180</td>\n",
       "    </tr>\n",
       "    <tr>\n",
       "      <th>...</th>\n",
       "      <td>...</td>\n",
       "      <td>...</td>\n",
       "      <td>...</td>\n",
       "      <td>...</td>\n",
       "      <td>...</td>\n",
       "      <td>...</td>\n",
       "      <td>...</td>\n",
       "      <td>...</td>\n",
       "      <td>...</td>\n",
       "      <td>...</td>\n",
       "      <td>...</td>\n",
       "      <td>...</td>\n",
       "      <td>...</td>\n",
       "    </tr>\n",
       "    <tr>\n",
       "      <th>227423</th>\n",
       "      <td>688</td>\n",
       "      <td>3fd66200f964a52000e71ee3</td>\n",
       "      <td>4bf58dd8d48988d1e7931735</td>\n",
       "      <td>Music Venue</td>\n",
       "      <td>40.733596</td>\n",
       "      <td>-74.003139</td>\n",
       "      <td>-300</td>\n",
       "      <td>Sat Feb 16 02:29:11 +0000 2013</td>\n",
       "      <td>0</td>\n",
       "      <td>0</td>\n",
       "      <td>0</td>\n",
       "      <td>0</td>\n",
       "      <td>1360981751</td>\n",
       "    </tr>\n",
       "    <tr>\n",
       "      <th>227424</th>\n",
       "      <td>560</td>\n",
       "      <td>4bca32ff0687ef3be789dbcc</td>\n",
       "      <td>4bf58dd8d48988d16c941735</td>\n",
       "      <td>Burger Joint</td>\n",
       "      <td>40.745719</td>\n",
       "      <td>-73.993720</td>\n",
       "      <td>-300</td>\n",
       "      <td>Sat Feb 16 02:31:35 +0000 2013</td>\n",
       "      <td>0</td>\n",
       "      <td>0</td>\n",
       "      <td>0</td>\n",
       "      <td>0</td>\n",
       "      <td>1360981895</td>\n",
       "    </tr>\n",
       "    <tr>\n",
       "      <th>227425</th>\n",
       "      <td>945</td>\n",
       "      <td>50a77716e4b0b5a9492f6f56</td>\n",
       "      <td>4bf58dd8d48988d103941735</td>\n",
       "      <td>Home (private)</td>\n",
       "      <td>40.854364</td>\n",
       "      <td>-73.883070</td>\n",
       "      <td>-300</td>\n",
       "      <td>Sat Feb 16 02:33:16 +0000 2013</td>\n",
       "      <td>0</td>\n",
       "      <td>0</td>\n",
       "      <td>0</td>\n",
       "      <td>0</td>\n",
       "      <td>1360981996</td>\n",
       "    </tr>\n",
       "    <tr>\n",
       "      <th>227426</th>\n",
       "      <td>671</td>\n",
       "      <td>4514efe0f964a520e7391fe3</td>\n",
       "      <td>4bf58dd8d48988d11d941735</td>\n",
       "      <td>Bar</td>\n",
       "      <td>40.735981</td>\n",
       "      <td>-74.029309</td>\n",
       "      <td>-300</td>\n",
       "      <td>Sat Feb 16 02:34:31 +0000 2013</td>\n",
       "      <td>0</td>\n",
       "      <td>0</td>\n",
       "      <td>0</td>\n",
       "      <td>0</td>\n",
       "      <td>1360982071</td>\n",
       "    </tr>\n",
       "    <tr>\n",
       "      <th>227427</th>\n",
       "      <td>942</td>\n",
       "      <td>4a1e0ca0f964a520bf7b1fe3</td>\n",
       "      <td>4bf58dd8d48988d116941735</td>\n",
       "      <td>Bar</td>\n",
       "      <td>40.726805</td>\n",
       "      <td>-73.957422</td>\n",
       "      <td>-300</td>\n",
       "      <td>Sat Feb 16 02:35:36 +0000 2013</td>\n",
       "      <td>0</td>\n",
       "      <td>0</td>\n",
       "      <td>0</td>\n",
       "      <td>0</td>\n",
       "      <td>1360982136</td>\n",
       "    </tr>\n",
       "  </tbody>\n",
       "</table>\n",
       "<p>227428 rows × 13 columns</p>\n",
       "</div>"
      ],
      "text/plain": [
       "        User ID (anonymized)     Venue ID (Foursquare)  \\\n",
       "0                        470  49bbd6c0f964a520f4531fe3   \n",
       "1                        979  4a43c0aef964a520c6a61fe3   \n",
       "2                         69  4c5cc7b485a1e21e00d35711   \n",
       "3                        395  4bc7086715a7ef3bef9878da   \n",
       "4                         87  4cf2c5321d18a143951b5cec   \n",
       "...                      ...                       ...   \n",
       "227423                   688  3fd66200f964a52000e71ee3   \n",
       "227424                   560  4bca32ff0687ef3be789dbcc   \n",
       "227425                   945  50a77716e4b0b5a9492f6f56   \n",
       "227426                   671  4514efe0f964a520e7391fe3   \n",
       "227427                   942  4a1e0ca0f964a520bf7b1fe3   \n",
       "\n",
       "       Venue category ID (Foursquare) Venue category name (Fousquare)  \\\n",
       "0            4bf58dd8d48988d127951735             Arts & Crafts Store   \n",
       "1            4bf58dd8d48988d1df941735                          Bridge   \n",
       "2            4bf58dd8d48988d103941735                  Home (private)   \n",
       "3            4bf58dd8d48988d104941735                  Medical Center   \n",
       "4            4bf58dd8d48988d1cb941735                      Food Truck   \n",
       "...                               ...                             ...   \n",
       "227423       4bf58dd8d48988d1e7931735                     Music Venue   \n",
       "227424       4bf58dd8d48988d16c941735                    Burger Joint   \n",
       "227425       4bf58dd8d48988d103941735                  Home (private)   \n",
       "227426       4bf58dd8d48988d11d941735                             Bar   \n",
       "227427       4bf58dd8d48988d116941735                             Bar   \n",
       "\n",
       "         Latitude  Longitude  Timezone offset(minutes)  \\\n",
       "0       40.719810 -74.002581                      -240   \n",
       "1       40.606800 -74.044170                      -240   \n",
       "2       40.716162 -73.883070                      -240   \n",
       "3       40.745164 -73.982519                      -240   \n",
       "4       40.740104 -73.989658                      -240   \n",
       "...           ...        ...                       ...   \n",
       "227423  40.733596 -74.003139                      -300   \n",
       "227424  40.745719 -73.993720                      -300   \n",
       "227425  40.854364 -73.883070                      -300   \n",
       "227426  40.735981 -74.029309                      -300   \n",
       "227427  40.726805 -73.957422                      -300   \n",
       "\n",
       "                              UTC time  Status  Iteration  InfectorId  \\\n",
       "0       Tue Apr 03 18:00:09 +0000 2012       0          0           0   \n",
       "1       Tue Apr 03 18:00:25 +0000 2012       0          0           0   \n",
       "2       Tue Apr 03 18:02:24 +0000 2012       0          0           0   \n",
       "3       Tue Apr 03 18:02:41 +0000 2012       0          0           0   \n",
       "4       Tue Apr 03 18:03:00 +0000 2012       0          0           0   \n",
       "...                                ...     ...        ...         ...   \n",
       "227423  Sat Feb 16 02:29:11 +0000 2013       0          0           0   \n",
       "227424  Sat Feb 16 02:31:35 +0000 2013       0          0           0   \n",
       "227425  Sat Feb 16 02:33:16 +0000 2013       0          0           0   \n",
       "227426  Sat Feb 16 02:34:31 +0000 2013       0          0           0   \n",
       "227427  Sat Feb 16 02:35:36 +0000 2013       0          0           0   \n",
       "\n",
       "        InfectionTime        Time  \n",
       "0                   0  1333476009  \n",
       "1                   0  1333476025  \n",
       "2                   0  1333476144  \n",
       "3                   0  1333476161  \n",
       "4                   0  1333476180  \n",
       "...               ...         ...  \n",
       "227423              0  1360981751  \n",
       "227424              0  1360981895  \n",
       "227425              0  1360981996  \n",
       "227426              0  1360982071  \n",
       "227427              0  1360982136  \n",
       "\n",
       "[227428 rows x 13 columns]"
      ]
     },
     "execution_count": 3,
     "metadata": {},
     "output_type": "execute_result"
    }
   ],
   "source": [
    "df"
   ]
  },
  {
   "cell_type": "code",
   "execution_count": 4,
   "metadata": {},
   "outputs": [
    {
     "data": {
      "text/plain": [
       "(227428, 13)"
      ]
     },
     "execution_count": 4,
     "metadata": {},
     "output_type": "execute_result"
    }
   ],
   "source": [
    "df.shape"
   ]
  },
  {
   "cell_type": "code",
   "execution_count": 5,
   "metadata": {},
   "outputs": [
    {
     "data": {
      "text/plain": [
       "Index(['User ID (anonymized)', 'Venue ID (Foursquare)',\n",
       "       'Venue category ID (Foursquare)', 'Venue category name (Fousquare)',\n",
       "       'Latitude', 'Longitude', 'Timezone offset(minutes)', 'UTC time',\n",
       "       'Status', 'Iteration', 'InfectorId', 'InfectionTime', 'Time'],\n",
       "      dtype='object')"
      ]
     },
     "execution_count": 5,
     "metadata": {},
     "output_type": "execute_result"
    }
   ],
   "source": [
    "df.columns"
   ]
  },
  {
   "cell_type": "markdown",
   "metadata": {},
   "source": [
    "Convert to spacially enabled dataframe"
   ]
  },
  {
   "cell_type": "code",
   "execution_count": null,
   "metadata": {},
   "outputs": [],
   "source": [
    "df_infected = df[df.Infected]"
   ]
  },
  {
   "cell_type": "code",
   "execution_count": 7,
   "metadata": {},
   "outputs": [
    {
     "data": {
      "text/plain": [
       "pandas.core.frame.DataFrame"
      ]
     },
     "execution_count": 7,
     "metadata": {},
     "output_type": "execute_result"
    }
   ],
   "source": [
    "sdf = pd.DataFrame.spatial.from_xy(df, 'Longitude','Latitude')\n",
    "type(sdf)"
   ]
  },
  {
   "cell_type": "code",
   "execution_count": null,
   "metadata": {},
   "outputs": [],
   "source": []
  }
 ],
 "metadata": {
  "kernelspec": {
   "display_name": "Python 3",
   "language": "python",
   "name": "python3"
  },
  "language_info": {
   "codemirror_mode": {
    "name": "ipython",
    "version": 3
   },
   "file_extension": ".py",
   "mimetype": "text/x-python",
   "name": "python",
   "nbconvert_exporter": "python",
   "pygments_lexer": "ipython3",
   "version": "3.7.6"
  }
 },
 "nbformat": 4,
 "nbformat_minor": 4
}
