{
 "cells": [
  {
   "cell_type": "markdown",
   "metadata": {},
   "source": [
    "# Download the dataset"
   ]
  },
  {
   "cell_type": "code",
   "execution_count": 1,
   "metadata": {},
   "outputs": [
    {
     "name": "stdout",
     "output_type": "stream",
     "text": [
      "--2020-05-02 18:18:52--  http://www-public.it-sudparis.eu/~zhang_da/pub/dataset_tsmc2014.zip\n",
      "Resolving www-public.it-sudparis.eu (www-public.it-sudparis.eu)... 157.159.10.107, 2001:660:3203:100:1:0:80:107\n",
      "Connecting to www-public.it-sudparis.eu (www-public.it-sudparis.eu)|157.159.10.107|:80... connected.\n",
      "HTTP request sent, awaiting response... 301 Moved Permanently\n",
      "Location: http://www-public.imtbs-tsp.eu/~zhang_da/pub/dataset_tsmc2014.zip [following]\n",
      "--2020-05-02 18:18:53--  http://www-public.imtbs-tsp.eu/~zhang_da/pub/dataset_tsmc2014.zip\n",
      "Resolving www-public.imtbs-tsp.eu (www-public.imtbs-tsp.eu)... 157.159.10.107, 2001:660:3203:100:1:0:80:107\n",
      "Connecting to www-public.imtbs-tsp.eu (www-public.imtbs-tsp.eu)|157.159.10.107|:80... connected.\n",
      "HTTP request sent, awaiting response... 416 Requested Range Not Satisfiable\n",
      "\n",
      "    The file is already fully retrieved; nothing to do.\n",
      "\n"
     ]
    }
   ],
   "source": [
    "#download the data set NYC and Tokyo checkin\n",
    "!wget -c http://www-public.it-sudparis.eu/~zhang_da/pub/dataset_tsmc2014.zip "
   ]
  },
  {
   "cell_type": "markdown",
   "metadata": {},
   "source": [
    "## See if the data has been downloaded in the local directory"
   ]
  },
  {
   "cell_type": "code",
   "execution_count": 2,
   "metadata": {},
   "outputs": [
    {
     "name": "stdout",
     "output_type": "stream",
     "text": [
      "DataProcessing.ipynb\t     dataset_tsmc2014.zip   Simulation.ipynb\r\n",
      "dataset_tsmc2014\t     processedTMSC2014.tsv\r\n",
      "dataset_TSMC2014_readme.txt  README.md\r\n"
     ]
    }
   ],
   "source": [
    "!ls"
   ]
  },
  {
   "cell_type": "markdown",
   "metadata": {},
   "source": [
    "## Unzip the dataset and look at its format"
   ]
  },
  {
   "cell_type": "code",
   "execution_count": 3,
   "metadata": {},
   "outputs": [
    {
     "name": "stdout",
     "output_type": "stream",
     "text": [
      "Archive:  dataset_tsmc2014.zip\n",
      "  inflating: dataset_tsmc2014/dataset_TSMC2014_NYC.txt  \n",
      "  inflating: dataset_tsmc2014/dataset_TSMC2014_readme.txt  \n",
      "  inflating: dataset_tsmc2014/dataset_TSMC2014_TKY.txt  \n"
     ]
    }
   ],
   "source": [
    "#unzip\n",
    "!unzip -o dataset_tsmc2014.zip"
   ]
  },
  {
   "cell_type": "code",
   "execution_count": 4,
   "metadata": {},
   "outputs": [
    {
     "name": "stdout",
     "output_type": "stream",
     "text": [
      "470\t49bbd6c0f964a520f4531fe3\t4bf58dd8d48988d127951735\tArts & Crafts Store\t40.719810375488535\t-74.00258103213994\t-240\tTue Apr 03 18:00:09 +0000 2012\r\n",
      "979\t4a43c0aef964a520c6a61fe3\t4bf58dd8d48988d1df941735\tBridge\t40.60679958140643\t-74.04416981025437\t-240\tTue Apr 03 18:00:25 +0000 2012\r\n",
      "69\t4c5cc7b485a1e21e00d35711\t4bf58dd8d48988d103941735\tHome (private)\t40.716161684843215\t-73.88307005845945\t-240\tTue Apr 03 18:02:24 +0000 2012\r\n",
      "395\t4bc7086715a7ef3bef9878da\t4bf58dd8d48988d104941735\tMedical Center\t40.7451638\t-73.982518775\t-240\tTue Apr 03 18:02:41 +0000 2012\r\n",
      "87\t4cf2c5321d18a143951b5cec\t4bf58dd8d48988d1cb941735\tFood Truck\t40.74010382743943\t-73.98965835571289\t-240\tTue Apr 03 18:03:00 +0000 2012\r\n",
      "484\t4b5b981bf964a520900929e3\t4bf58dd8d48988d118951735\tFood & Drink Shop\t40.69042711809854\t-73.95468677509598\t-240\tTue Apr 03 18:04:00 +0000 2012\r\n",
      "642\t4ab966c3f964a5203c7f20e3\t4bf58dd8d48988d1e0931735\tCoffee Shop\t40.751591431346306\t-73.9741214009634\t-240\tTue Apr 03 18:04:38 +0000 2012\r\n",
      "292\t4d0cc47f903d37041864bf55\t4bf58dd8d48988d12b951735\tBus Station\t40.77942173066975\t-73.95534113280371\t-240\tTue Apr 03 18:04:42 +0000 2012\r\n",
      "428\t4ce1863bc4f6a35d8bd2db6c\t4bf58dd8d48988d103941735\tHome (private)\t40.61915106755737\t-74.03588760058483\t-240\tTue Apr 03 18:06:18 +0000 2012\r\n",
      "877\t4be319b321d5a59352311811\t4bf58dd8d48988d10a951735\tBank\t40.61900594093755\t-73.99037472596906\t-240\tTue Apr 03 18:06:19 +0000 2012\r\n"
     ]
    }
   ],
   "source": [
    "#look at the head of the dataset NYC\n",
    "!head dataset_tsmc2014/dataset_TSMC2014_NYC.txt"
   ]
  },
  {
   "cell_type": "markdown",
   "metadata": {},
   "source": [
    "## Load Dataset as pandas dataframe\n",
    "## Data set has no column header, provide column header"
   ]
  },
  {
   "cell_type": "code",
   "execution_count": 5,
   "metadata": {},
   "outputs": [],
   "source": [
    "#These files are tab seperated files and we want to load them\n",
    "import pandas as pd\n",
    "df = pd.read_csv(\"dataset_tsmc2014/dataset_TSMC2014_NYC.txt\",sep='\\t', engine=\"python\", header=None)"
   ]
  },
  {
   "cell_type": "code",
   "execution_count": 6,
   "metadata": {},
   "outputs": [
    {
     "data": {
      "text/html": [
       "<div>\n",
       "<style scoped>\n",
       "    .dataframe tbody tr th:only-of-type {\n",
       "        vertical-align: middle;\n",
       "    }\n",
       "\n",
       "    .dataframe tbody tr th {\n",
       "        vertical-align: top;\n",
       "    }\n",
       "\n",
       "    .dataframe thead th {\n",
       "        text-align: right;\n",
       "    }\n",
       "</style>\n",
       "<table border=\"1\" class=\"dataframe\">\n",
       "  <thead>\n",
       "    <tr style=\"text-align: right;\">\n",
       "      <th></th>\n",
       "      <th>0</th>\n",
       "      <th>1</th>\n",
       "      <th>2</th>\n",
       "      <th>3</th>\n",
       "      <th>4</th>\n",
       "      <th>5</th>\n",
       "      <th>6</th>\n",
       "      <th>7</th>\n",
       "    </tr>\n",
       "  </thead>\n",
       "  <tbody>\n",
       "    <tr>\n",
       "      <th>0</th>\n",
       "      <td>470</td>\n",
       "      <td>49bbd6c0f964a520f4531fe3</td>\n",
       "      <td>4bf58dd8d48988d127951735</td>\n",
       "      <td>Arts &amp; Crafts Store</td>\n",
       "      <td>40.719810</td>\n",
       "      <td>-74.002581</td>\n",
       "      <td>-240</td>\n",
       "      <td>Tue Apr 03 18:00:09 +0000 2012</td>\n",
       "    </tr>\n",
       "    <tr>\n",
       "      <th>1</th>\n",
       "      <td>979</td>\n",
       "      <td>4a43c0aef964a520c6a61fe3</td>\n",
       "      <td>4bf58dd8d48988d1df941735</td>\n",
       "      <td>Bridge</td>\n",
       "      <td>40.606800</td>\n",
       "      <td>-74.044170</td>\n",
       "      <td>-240</td>\n",
       "      <td>Tue Apr 03 18:00:25 +0000 2012</td>\n",
       "    </tr>\n",
       "    <tr>\n",
       "      <th>2</th>\n",
       "      <td>69</td>\n",
       "      <td>4c5cc7b485a1e21e00d35711</td>\n",
       "      <td>4bf58dd8d48988d103941735</td>\n",
       "      <td>Home (private)</td>\n",
       "      <td>40.716162</td>\n",
       "      <td>-73.883070</td>\n",
       "      <td>-240</td>\n",
       "      <td>Tue Apr 03 18:02:24 +0000 2012</td>\n",
       "    </tr>\n",
       "    <tr>\n",
       "      <th>3</th>\n",
       "      <td>395</td>\n",
       "      <td>4bc7086715a7ef3bef9878da</td>\n",
       "      <td>4bf58dd8d48988d104941735</td>\n",
       "      <td>Medical Center</td>\n",
       "      <td>40.745164</td>\n",
       "      <td>-73.982519</td>\n",
       "      <td>-240</td>\n",
       "      <td>Tue Apr 03 18:02:41 +0000 2012</td>\n",
       "    </tr>\n",
       "    <tr>\n",
       "      <th>4</th>\n",
       "      <td>87</td>\n",
       "      <td>4cf2c5321d18a143951b5cec</td>\n",
       "      <td>4bf58dd8d48988d1cb941735</td>\n",
       "      <td>Food Truck</td>\n",
       "      <td>40.740104</td>\n",
       "      <td>-73.989658</td>\n",
       "      <td>-240</td>\n",
       "      <td>Tue Apr 03 18:03:00 +0000 2012</td>\n",
       "    </tr>\n",
       "  </tbody>\n",
       "</table>\n",
       "</div>"
      ],
      "text/plain": [
       "     0                         1                         2  \\\n",
       "0  470  49bbd6c0f964a520f4531fe3  4bf58dd8d48988d127951735   \n",
       "1  979  4a43c0aef964a520c6a61fe3  4bf58dd8d48988d1df941735   \n",
       "2   69  4c5cc7b485a1e21e00d35711  4bf58dd8d48988d103941735   \n",
       "3  395  4bc7086715a7ef3bef9878da  4bf58dd8d48988d104941735   \n",
       "4   87  4cf2c5321d18a143951b5cec  4bf58dd8d48988d1cb941735   \n",
       "\n",
       "                     3          4          5    6  \\\n",
       "0  Arts & Crafts Store  40.719810 -74.002581 -240   \n",
       "1               Bridge  40.606800 -74.044170 -240   \n",
       "2       Home (private)  40.716162 -73.883070 -240   \n",
       "3       Medical Center  40.745164 -73.982519 -240   \n",
       "4           Food Truck  40.740104 -73.989658 -240   \n",
       "\n",
       "                                7  \n",
       "0  Tue Apr 03 18:00:09 +0000 2012  \n",
       "1  Tue Apr 03 18:00:25 +0000 2012  \n",
       "2  Tue Apr 03 18:02:24 +0000 2012  \n",
       "3  Tue Apr 03 18:02:41 +0000 2012  \n",
       "4  Tue Apr 03 18:03:00 +0000 2012  "
      ]
     },
     "execution_count": 6,
     "metadata": {},
     "output_type": "execute_result"
    }
   ],
   "source": [
    "df.head()"
   ]
  },
  {
   "cell_type": "code",
   "execution_count": 7,
   "metadata": {},
   "outputs": [
    {
     "name": "stdout",
     "output_type": "stream",
     "text": [
      "This dataset includes long-term (about 10 months) check-in data in New York city and Tokyo collected from Foursquare from 12 April 2012 to 16 February 2013.\r",
      "\r\n",
      "It contains two files in tsv format. Each file contains 8 columns, which are:\r",
      "\r\n",
      "\r",
      "\r\n",
      "1. User ID (anonymized)\r",
      "\r\n",
      "2. Venue ID (Foursquare)\r",
      "\r\n",
      "3. Venue category ID (Foursquare)\r",
      "\r\n",
      "4. Venue category name (Fousquare)\r",
      "\r\n",
      "5. Latitude\r",
      "\r\n",
      "6. Longitude\r",
      "\r\n",
      "7. Timezone offset in minutes (The offset in minutes between when this check-in occurred and the same time in UTC)\r",
      "\r\n",
      "8. UTC time\r",
      "\r\n",
      "\r",
      "\r\n",
      "The file dataset_TSMC2014_NYC.txt contains 227428 check-ins in New York city.\r",
      "\r\n",
      "The file dataset_TSMC2014_TKY.txt contains 537703 check-ins in Tokyo.\r",
      "\r\n",
      "\r",
      "\r\n",
      "=============================================================================================================================\r",
      "\r\n",
      "Please cite our paper if you publish material based on this dataset.\r",
      "\r\n",
      "\r",
      "\r\n",
      "=============================================================================================================================\r",
      "\r\n",
      "REFERENCES\r",
      "\r\n",
      "\r",
      "\r\n",
      "@article{yang2014modeling,\r",
      "\r\n",
      "\tauthor={Yang, Dingqi and Zhang, Daqing and Zheng, Vincent. W. and Yu, Zhiyong},\r",
      "\r\n",
      "\tjournal={IEEE Transactions on Systems, Man, and Cybernetics: Systems},\r",
      "\r\n",
      "\ttitle={Modeling User Activity Preference by Leveraging User Spatial Temporal Characteristics in LBSNs},\r",
      "\r\n",
      "\tyear={2015},\r",
      "\r\n",
      "\tvolume={45},\r",
      "\r\n",
      "\tnumber={1},\r",
      "\r\n",
      "\tpages={129--142},\r",
      "\r\n",
      "\tISSN={2168-2216},\r",
      "\r\n",
      "\tpublisher={IEEE}\r",
      "\r\n",
      "}\r",
      "\r\n",
      "\r",
      "\r\n"
     ]
    }
   ],
   "source": [
    "! cat dataset_TSMC2014_readme.txt"
   ]
  },
  {
   "cell_type": "code",
   "execution_count": 8,
   "metadata": {},
   "outputs": [
    {
     "data": {
      "text/html": [
       "<div>\n",
       "<style scoped>\n",
       "    .dataframe tbody tr th:only-of-type {\n",
       "        vertical-align: middle;\n",
       "    }\n",
       "\n",
       "    .dataframe tbody tr th {\n",
       "        vertical-align: top;\n",
       "    }\n",
       "\n",
       "    .dataframe thead th {\n",
       "        text-align: right;\n",
       "    }\n",
       "</style>\n",
       "<table border=\"1\" class=\"dataframe\">\n",
       "  <thead>\n",
       "    <tr style=\"text-align: right;\">\n",
       "      <th></th>\n",
       "      <th>0</th>\n",
       "      <th>1</th>\n",
       "      <th>2</th>\n",
       "      <th>3</th>\n",
       "      <th>4</th>\n",
       "      <th>5</th>\n",
       "      <th>6</th>\n",
       "      <th>7</th>\n",
       "    </tr>\n",
       "  </thead>\n",
       "  <tbody>\n",
       "    <tr>\n",
       "      <th>0</th>\n",
       "      <td>470</td>\n",
       "      <td>49bbd6c0f964a520f4531fe3</td>\n",
       "      <td>4bf58dd8d48988d127951735</td>\n",
       "      <td>Arts &amp; Crafts Store</td>\n",
       "      <td>40.719810</td>\n",
       "      <td>-74.002581</td>\n",
       "      <td>-240</td>\n",
       "      <td>Tue Apr 03 18:00:09 +0000 2012</td>\n",
       "    </tr>\n",
       "    <tr>\n",
       "      <th>1</th>\n",
       "      <td>979</td>\n",
       "      <td>4a43c0aef964a520c6a61fe3</td>\n",
       "      <td>4bf58dd8d48988d1df941735</td>\n",
       "      <td>Bridge</td>\n",
       "      <td>40.606800</td>\n",
       "      <td>-74.044170</td>\n",
       "      <td>-240</td>\n",
       "      <td>Tue Apr 03 18:00:25 +0000 2012</td>\n",
       "    </tr>\n",
       "    <tr>\n",
       "      <th>2</th>\n",
       "      <td>69</td>\n",
       "      <td>4c5cc7b485a1e21e00d35711</td>\n",
       "      <td>4bf58dd8d48988d103941735</td>\n",
       "      <td>Home (private)</td>\n",
       "      <td>40.716162</td>\n",
       "      <td>-73.883070</td>\n",
       "      <td>-240</td>\n",
       "      <td>Tue Apr 03 18:02:24 +0000 2012</td>\n",
       "    </tr>\n",
       "    <tr>\n",
       "      <th>3</th>\n",
       "      <td>395</td>\n",
       "      <td>4bc7086715a7ef3bef9878da</td>\n",
       "      <td>4bf58dd8d48988d104941735</td>\n",
       "      <td>Medical Center</td>\n",
       "      <td>40.745164</td>\n",
       "      <td>-73.982519</td>\n",
       "      <td>-240</td>\n",
       "      <td>Tue Apr 03 18:02:41 +0000 2012</td>\n",
       "    </tr>\n",
       "    <tr>\n",
       "      <th>4</th>\n",
       "      <td>87</td>\n",
       "      <td>4cf2c5321d18a143951b5cec</td>\n",
       "      <td>4bf58dd8d48988d1cb941735</td>\n",
       "      <td>Food Truck</td>\n",
       "      <td>40.740104</td>\n",
       "      <td>-73.989658</td>\n",
       "      <td>-240</td>\n",
       "      <td>Tue Apr 03 18:03:00 +0000 2012</td>\n",
       "    </tr>\n",
       "  </tbody>\n",
       "</table>\n",
       "</div>"
      ],
      "text/plain": [
       "     0                         1                         2  \\\n",
       "0  470  49bbd6c0f964a520f4531fe3  4bf58dd8d48988d127951735   \n",
       "1  979  4a43c0aef964a520c6a61fe3  4bf58dd8d48988d1df941735   \n",
       "2   69  4c5cc7b485a1e21e00d35711  4bf58dd8d48988d103941735   \n",
       "3  395  4bc7086715a7ef3bef9878da  4bf58dd8d48988d104941735   \n",
       "4   87  4cf2c5321d18a143951b5cec  4bf58dd8d48988d1cb941735   \n",
       "\n",
       "                     3          4          5    6  \\\n",
       "0  Arts & Crafts Store  40.719810 -74.002581 -240   \n",
       "1               Bridge  40.606800 -74.044170 -240   \n",
       "2       Home (private)  40.716162 -73.883070 -240   \n",
       "3       Medical Center  40.745164 -73.982519 -240   \n",
       "4           Food Truck  40.740104 -73.989658 -240   \n",
       "\n",
       "                                7  \n",
       "0  Tue Apr 03 18:00:09 +0000 2012  \n",
       "1  Tue Apr 03 18:00:25 +0000 2012  \n",
       "2  Tue Apr 03 18:02:24 +0000 2012  \n",
       "3  Tue Apr 03 18:02:41 +0000 2012  \n",
       "4  Tue Apr 03 18:03:00 +0000 2012  "
      ]
     },
     "execution_count": 8,
     "metadata": {},
     "output_type": "execute_result"
    }
   ],
   "source": [
    "df.head()"
   ]
  },
  {
   "cell_type": "code",
   "execution_count": 9,
   "metadata": {},
   "outputs": [],
   "source": [
    "#Set index for hte dataframe\n",
    "df.columns = [\n",
    "    \"User ID (anonymized)\",\n",
    "    \"Venue ID (Foursquare)\",\n",
    "    \"Venue category ID (Foursquare)\",\n",
    "    \"Venue category name (Fousquare)\",\n",
    "    \"Latitude\",\n",
    "    \"Longitude\",\n",
    "    \"Timezone offset(minutes)\",\n",
    "    \"UTC time\"]"
   ]
  },
  {
   "cell_type": "code",
   "execution_count": 10,
   "metadata": {},
   "outputs": [],
   "source": [
    "# Number of observations in the given dataset is\n",
    "l = len(df)"
   ]
  },
  {
   "cell_type": "markdown",
   "metadata": {},
   "source": [
    "## Make to extra columns InfectorId, Status, Time and Iteration\n",
    "* Status is used to store the positive or negative status of the person\n",
    "* Iteration we use to see which iteration of the simulation was this person infected\n",
    "* We also use InfectorId to store the person who was the primary infector of this user\n",
    "* We process UTC time to seconds using epoch so that calculation on time range is easier\n",
    "\n",
    "\n",
    "Ideally we must have a different table for the user which maintains the userId and status, but as the dataset is small enough we can work with the same table. It doesn't affect the time so much (I hope!)"
   ]
  },
  {
   "cell_type": "code",
   "execution_count": 11,
   "metadata": {},
   "outputs": [],
   "source": [
    "df[\"Status\"] = [0]*l\n",
    "df[\"Iteration\"] = [0]*l\n",
    "df[\"InfectorId\"] = [0]*l\n",
    "# After performing simulation we come to conclusion that we need one more column\n",
    "# We need a column to maintain at what time was this person infection\n",
    "df[\"InfectionTime\"] = [0]*l"
   ]
  },
  {
   "cell_type": "code",
   "execution_count": 12,
   "metadata": {},
   "outputs": [
    {
     "data": {
      "text/html": [
       "<div>\n",
       "<style scoped>\n",
       "    .dataframe tbody tr th:only-of-type {\n",
       "        vertical-align: middle;\n",
       "    }\n",
       "\n",
       "    .dataframe tbody tr th {\n",
       "        vertical-align: top;\n",
       "    }\n",
       "\n",
       "    .dataframe thead th {\n",
       "        text-align: right;\n",
       "    }\n",
       "</style>\n",
       "<table border=\"1\" class=\"dataframe\">\n",
       "  <thead>\n",
       "    <tr style=\"text-align: right;\">\n",
       "      <th></th>\n",
       "      <th>User ID (anonymized)</th>\n",
       "      <th>Venue ID (Foursquare)</th>\n",
       "      <th>Venue category ID (Foursquare)</th>\n",
       "      <th>Venue category name (Fousquare)</th>\n",
       "      <th>Latitude</th>\n",
       "      <th>Longitude</th>\n",
       "      <th>Timezone offset(minutes)</th>\n",
       "      <th>UTC time</th>\n",
       "      <th>Status</th>\n",
       "      <th>Iteration</th>\n",
       "      <th>infectorId</th>\n",
       "      <th>InfectionTime</th>\n",
       "      <th>Time</th>\n",
       "    </tr>\n",
       "  </thead>\n",
       "  <tbody>\n",
       "    <tr>\n",
       "      <th>0</th>\n",
       "      <td>470</td>\n",
       "      <td>49bbd6c0f964a520f4531fe3</td>\n",
       "      <td>4bf58dd8d48988d127951735</td>\n",
       "      <td>Arts &amp; Crafts Store</td>\n",
       "      <td>40.719810</td>\n",
       "      <td>-74.002581</td>\n",
       "      <td>-240</td>\n",
       "      <td>Tue Apr 03 18:00:09 +0000 2012</td>\n",
       "      <td>0</td>\n",
       "      <td>0</td>\n",
       "      <td>0</td>\n",
       "      <td>0</td>\n",
       "      <td>1333476009</td>\n",
       "    </tr>\n",
       "    <tr>\n",
       "      <th>1</th>\n",
       "      <td>979</td>\n",
       "      <td>4a43c0aef964a520c6a61fe3</td>\n",
       "      <td>4bf58dd8d48988d1df941735</td>\n",
       "      <td>Bridge</td>\n",
       "      <td>40.606800</td>\n",
       "      <td>-74.044170</td>\n",
       "      <td>-240</td>\n",
       "      <td>Tue Apr 03 18:00:25 +0000 2012</td>\n",
       "      <td>0</td>\n",
       "      <td>0</td>\n",
       "      <td>0</td>\n",
       "      <td>0</td>\n",
       "      <td>1333476025</td>\n",
       "    </tr>\n",
       "    <tr>\n",
       "      <th>2</th>\n",
       "      <td>69</td>\n",
       "      <td>4c5cc7b485a1e21e00d35711</td>\n",
       "      <td>4bf58dd8d48988d103941735</td>\n",
       "      <td>Home (private)</td>\n",
       "      <td>40.716162</td>\n",
       "      <td>-73.883070</td>\n",
       "      <td>-240</td>\n",
       "      <td>Tue Apr 03 18:02:24 +0000 2012</td>\n",
       "      <td>0</td>\n",
       "      <td>0</td>\n",
       "      <td>0</td>\n",
       "      <td>0</td>\n",
       "      <td>1333476144</td>\n",
       "    </tr>\n",
       "    <tr>\n",
       "      <th>3</th>\n",
       "      <td>395</td>\n",
       "      <td>4bc7086715a7ef3bef9878da</td>\n",
       "      <td>4bf58dd8d48988d104941735</td>\n",
       "      <td>Medical Center</td>\n",
       "      <td>40.745164</td>\n",
       "      <td>-73.982519</td>\n",
       "      <td>-240</td>\n",
       "      <td>Tue Apr 03 18:02:41 +0000 2012</td>\n",
       "      <td>0</td>\n",
       "      <td>0</td>\n",
       "      <td>0</td>\n",
       "      <td>0</td>\n",
       "      <td>1333476161</td>\n",
       "    </tr>\n",
       "    <tr>\n",
       "      <th>4</th>\n",
       "      <td>87</td>\n",
       "      <td>4cf2c5321d18a143951b5cec</td>\n",
       "      <td>4bf58dd8d48988d1cb941735</td>\n",
       "      <td>Food Truck</td>\n",
       "      <td>40.740104</td>\n",
       "      <td>-73.989658</td>\n",
       "      <td>-240</td>\n",
       "      <td>Tue Apr 03 18:03:00 +0000 2012</td>\n",
       "      <td>0</td>\n",
       "      <td>0</td>\n",
       "      <td>0</td>\n",
       "      <td>0</td>\n",
       "      <td>1333476180</td>\n",
       "    </tr>\n",
       "  </tbody>\n",
       "</table>\n",
       "</div>"
      ],
      "text/plain": [
       "   User ID (anonymized)     Venue ID (Foursquare)  \\\n",
       "0                   470  49bbd6c0f964a520f4531fe3   \n",
       "1                   979  4a43c0aef964a520c6a61fe3   \n",
       "2                    69  4c5cc7b485a1e21e00d35711   \n",
       "3                   395  4bc7086715a7ef3bef9878da   \n",
       "4                    87  4cf2c5321d18a143951b5cec   \n",
       "\n",
       "  Venue category ID (Foursquare) Venue category name (Fousquare)   Latitude  \\\n",
       "0       4bf58dd8d48988d127951735             Arts & Crafts Store  40.719810   \n",
       "1       4bf58dd8d48988d1df941735                          Bridge  40.606800   \n",
       "2       4bf58dd8d48988d103941735                  Home (private)  40.716162   \n",
       "3       4bf58dd8d48988d104941735                  Medical Center  40.745164   \n",
       "4       4bf58dd8d48988d1cb941735                      Food Truck  40.740104   \n",
       "\n",
       "   Longitude  Timezone offset(minutes)                        UTC time  \\\n",
       "0 -74.002581                      -240  Tue Apr 03 18:00:09 +0000 2012   \n",
       "1 -74.044170                      -240  Tue Apr 03 18:00:25 +0000 2012   \n",
       "2 -73.883070                      -240  Tue Apr 03 18:02:24 +0000 2012   \n",
       "3 -73.982519                      -240  Tue Apr 03 18:02:41 +0000 2012   \n",
       "4 -73.989658                      -240  Tue Apr 03 18:03:00 +0000 2012   \n",
       "\n",
       "   Status  Iteration  infectorId  InfectionTime        Time  \n",
       "0       0          0           0              0  1333476009  \n",
       "1       0          0           0              0  1333476025  \n",
       "2       0          0           0              0  1333476144  \n",
       "3       0          0           0              0  1333476161  \n",
       "4       0          0           0              0  1333476180  "
      ]
     },
     "execution_count": 12,
     "metadata": {},
     "output_type": "execute_result"
    }
   ],
   "source": [
    "#Extracting date and time from UTC time \n",
    "#df[\"Date\"] = pd.to_datetime(df['UTC time']).dt.date\n",
    "#Default time is in nanoseconds so divide\n",
    "import numpy as np\n",
    "df[\"Time\"] = pd.to_datetime(df['UTC time']).astype(np.int64) // 10**9 \n",
    "df.head()"
   ]
  },
  {
   "cell_type": "markdown",
   "metadata": {},
   "source": [
    "# Data has beeen preprocessed now and we can store it in a csv file"
   ]
  },
  {
   "cell_type": "code",
   "execution_count": 13,
   "metadata": {},
   "outputs": [],
   "source": [
    "df.to_csv(\"processedTMSC2014.tsv\", sep=\"\\t\")"
   ]
  }
 ],
 "metadata": {
  "kernelspec": {
   "display_name": "Python 3",
   "language": "python",
   "name": "python3"
  },
  "language_info": {
   "codemirror_mode": {
    "name": "ipython",
    "version": 3
   },
   "file_extension": ".py",
   "mimetype": "text/x-python",
   "name": "python",
   "nbconvert_exporter": "python",
   "pygments_lexer": "ipython3",
   "version": "3.7.3"
  }
 },
 "nbformat": 4,
 "nbformat_minor": 2
}
